{
 "cells": [
  {
   "cell_type": "code",
   "execution_count": 4,
   "metadata": {
    "collapsed": true,
    "ExecuteTime": {
     "end_time": "2024-05-22T20:10:25.391342300Z",
     "start_time": "2024-05-22T20:10:25.367583400Z"
    }
   },
   "outputs": [],
   "source": [
    "import py7zr\n",
    "import pandas as pd\n",
    "import os"
   ]
  },
  {
   "cell_type": "code",
   "execution_count": 2,
   "outputs": [],
   "source": [
    "with py7zr.SevenZipFile('duplicate_zips\\\\OHIO FULL STATE BN De-duplicated_May 9 2024.7z') as z:\n",
    "    z.extractall()"
   ],
   "metadata": {
    "collapsed": false,
    "ExecuteTime": {
     "end_time": "2024-05-22T20:07:33.606595Z",
     "start_time": "2024-05-22T20:07:32.096921600Z"
    }
   }
  },
  {
   "cell_type": "code",
   "execution_count": 11,
   "outputs": [],
   "source": [
    "def id_dupes(duplicate_dir: str):\n",
    "    duplicate_ids = []\n",
    "\n",
    "    for filename in os.listdir(os.path.join(os.getcwd(), duplicate_dir)):\n",
    "        file = os.path.join('duplicates', filename)\n",
    "        df = pd.read_csv(file)\n",
    "        df = df[df['label'] == 'No']\n",
    "        df = df[df['Direction'] == 'Northbound']\n",
    "        df = df[df['ToPointLon'] <= -84.29757909632198]\n",
    "        df = df[df['ToPointLon'] >= -84.40074758438617]\n",
    "        df = df[df['ToPointLat'] >= 39.238639244]\n",
    "        df = df[df['ToPointLat'] <= 39.291402456]\n",
    "        dupes = list(df['Id'])\n",
    "        duplicate_ids.extend(dupes)\n",
    "\n",
    "    return duplicate_ids"
   ],
   "metadata": {
    "collapsed": false,
    "ExecuteTime": {
     "end_time": "2024-05-22T20:21:21.571147200Z",
     "start_time": "2024-05-22T20:21:21.530903700Z"
    }
   }
  },
  {
   "cell_type": "code",
   "execution_count": 12,
   "outputs": [
    {
     "name": "stdout",
     "output_type": "stream",
     "text": [
      "['37cf2ddd-6108-4c77-9057-97fce2ea00ee', 'abf5d60f-f659-434d-a8f5-c8ff28ed8091', '27e7022b-2519-48d9-91f5-6aade854cf8e', '2e0675ef-346f-4352-9936-6a6118362f84', '8d42dcb4-e22b-4bf9-9b72-6f9bb180d99e', '2e55ab8a-aca8-4f61-9ce6-8bfb021b94e8', '91f28d42-5ad3-4753-a443-c6790b9a49bd', '46e58b69-61e0-40be-9a0e-bafe67db8d03', 'c7f6dc93-b85e-47f1-b38d-9b464b15c297', 'f1a24efb-7c80-4d58-b40f-033ef5a76f4f', 'fb27f85a-95a5-43a1-a461-2a423b7e99c1', '7ab2b26a-a705-4c65-83df-744eb6e5587f', '1ac319a9-1421-45ac-8cb5-2768c0ef0d85', 'e2987ac8-8090-4c98-93ad-e8c02183c8a5', 'f3f1b104-9fa0-4717-8e28-2e6408789f59', 'c10c3a15-c9bd-4730-994a-8a62b9ebd8ac', '05542350-fe30-4c38-899f-f538440f077a', 'd0564eba-c6b4-436c-8cdc-ba5f725d31dd', '83bbac31-0dc1-48e2-9e11-61352e10ca76', 'f82a859c-fda0-4944-a4f3-8c0ee112b362', '404810f6-c7bd-4751-9904-3d43325dcfc9', 'eb6cb1dc-7765-4348-b173-98ef30533f5f', 'b814e535-a30f-4151-b944-2fd6f270ee4f', '89c1ca0d-b05c-4469-9229-1bcb25e22489', '52dd986f-bb9a-4064-9452-3a1e9d2b7c1a', 'e0e57395-8457-4fde-b461-3dc312f7b656', 'c99c7f90-7ce5-4f23-9418-a7af7c47d4d1', 'b0e71579-4cbe-4dea-9fdf-3d3684beaaec', 'c75b6771-43f4-4e34-a3dc-840795ea5a28', '68f572ac-2551-4dc3-8d9a-2b479e57405d', '71ad5f7b-3ee5-4e09-8b44-cf82902947e5', 'ebc7e7e6-9d55-429d-a12c-8d9268a9ec3b', '80754d78-5e17-4aa7-9db2-1722da44f39d', 'c13c4711-d5af-4637-9ddb-7bade161998a', '85f3aee2-daa4-4080-ade8-135b570c4bf4', '36252ac3-9608-404a-9681-6e5a5698e39e', '6439076c-ec0f-4e1c-9934-e74d9906c00c', '6e15c965-cce2-4487-8dc3-78fd47af32bf', '621e0370-e13f-499a-a4ce-cc353602a6e5', '1584b7a1-0b7a-4ceb-b140-439f93af28ed', 'ba3c52f9-b43f-47f2-a9bf-cb5b88b46c54', '8476214b-8a3b-4e1f-a50f-70b1ab05fa9e', '51d5468d-957a-435e-9f29-c70f7671f8e3', '602a941b-a87b-421c-962c-54be1f267ede', 'a424c1c3-e475-4b56-98a5-58110010ee31', '299a24cb-e24d-4c11-a3ad-79b78b4037c6', '13fb73b7-d0a1-4999-8254-f173fee79858', '3da4991f-10af-444f-a28d-6cf832385538', '80bf3494-c758-47cb-b9b4-3f357f6c652f', 'e942dcd5-67d5-4311-a96d-0fbb561df2b7', '951d6d1e-bb9f-4f3a-9f83-b880133f8122', '9495df4e-a4b7-4a67-aed5-e99f9872fdb6', 'ceec86d5-b51a-4fd4-86e5-6fee61598409', '3d62de27-9618-4ae0-8f6a-311986949f77', '2b1a43e0-7218-4942-86de-79ab97a97f81', '23c3b74b-a4a0-406f-b2ed-2782579aa4ea', '44d91a6d-ff2f-48a9-adaa-8a8d42fb3ef2', '573ec2fb-c136-441d-a72c-3ec36c3deeb9', 'b5514531-7c70-4b2d-9b09-41fa659d5b1e', 'c1c16632-637e-47d0-ab7e-7e7ee7415d5b', 'c2f3e123-b164-4bf1-b58f-47deea282823', 'e3756977-9f64-44ff-a45a-f365f56f205c', '0ac8bb7c-a8ed-418b-aca3-7a42007919b3', '32acceab-12a1-498f-a8ba-8dc407eeb42d', 'a41fbeca-9bd6-4ef6-95b8-4dc6bedd4388', 'cc0cefd0-3c0c-4793-ac22-b978c917c466', '1dfe1c4a-1a59-4ce9-8db5-7b34309151c7', 'd8824ff7-e6e2-4770-976e-f0de7f66101a', 'a022903b-a837-4f6d-a15b-30ef2d23e633', '253f522c-fb6c-420c-a935-b386347166ec', '2fb031aa-b04e-41fc-a78a-238c1bfcab95', 'bd295b51-b5a1-4f92-b71a-9420b71709a5', '5fd6d2ba-6ab9-4502-a96b-4bf1847d8f22', 'a9ef65f7-72c9-4eeb-958f-371a77257345', 'c3f6cc96-67c9-4f84-b2d4-fb90f6db4eca', '2fb6ea9e-7c67-4881-9fba-e2a99808d762', 'f367eca7-e124-4dbc-8630-1a83e9b24fd7', '7de02e3e-4c39-4206-9860-37898cc09025', '2d8869cc-1244-44a5-ae84-c34ae5e7f6a5', '42e5547e-7039-406f-b6a2-76469f94d9ae', '271eec41-d4ec-4127-b68f-38aba61af84e', '827c7821-760d-4a0d-9bf2-54078fef46c5', 'b1535b1e-1fe7-4679-bb38-35c1ce66cd6b', 'c26fc771-8567-4acc-9fa2-0672035447cf', '796c5126-57ac-433e-9e97-09dbf80c5424', 'bd434c75-0e4f-473e-ae2a-54d6e1a1f43c', 'd0f23bdf-f261-4192-9ffd-8bbd430c47c3', '92e7e1ae-e8d3-49f2-b606-08140f83c7f5', 'a2c48344-a171-4b9c-aaa4-f174baae80f9']\n"
     ]
    }
   ],
   "source": [
    "print(id_dupes('duplicates'))"
   ],
   "metadata": {
    "collapsed": false,
    "ExecuteTime": {
     "end_time": "2024-05-22T20:21:23.923055200Z",
     "start_time": "2024-05-22T20:21:22.671897900Z"
    }
   }
  }
 ],
 "metadata": {
  "kernelspec": {
   "display_name": "Python 3",
   "language": "python",
   "name": "python3"
  },
  "language_info": {
   "codemirror_mode": {
    "name": "ipython",
    "version": 2
   },
   "file_extension": ".py",
   "mimetype": "text/x-python",
   "name": "python",
   "nbconvert_exporter": "python",
   "pygments_lexer": "ipython2",
   "version": "2.7.6"
  }
 },
 "nbformat": 4,
 "nbformat_minor": 0
}
